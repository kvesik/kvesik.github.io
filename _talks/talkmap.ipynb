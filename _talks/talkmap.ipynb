{
 "cells": [
  {
   "cell_type": "markdown",
   "metadata": {},
   "source": [
    "# Leaflet cluster map of talk locations\n",
    "\n",
    "Run this from the _talks/ directory, which contains .md files of all your talks. This scrapes the location YAML field from each .md file, geolocates it with geopy/Nominatim, and uses the getorg library to output data, HTML, and Javascript for a standalone cluster map."
   ]
  },
  {
   "cell_type": "code",
   "execution_count": 1,
   "metadata": {},
   "outputs": [
    {
     "name": "stdout",
     "output_type": "stream",
     "text": [
      "Requirement already satisfied: getorg in c:\\users\\kaili-pants\\anaconda3\\lib\\site-packages (0.3.1)\n",
      "Requirement already satisfied: geopy in c:\\users\\kaili-pants\\anaconda3\\lib\\site-packages (from getorg) (2.2.0)\n",
      "Requirement already satisfied: retrying in c:\\users\\kaili-pants\\anaconda3\\lib\\site-packages (from getorg) (1.3.3)\n",
      "Requirement already satisfied: pygithub in c:\\users\\kaili-pants\\anaconda3\\lib\\site-packages (from getorg) (1.56)\n",
      "Requirement already satisfied: geographiclib<2,>=1.49 in c:\\users\\kaili-pants\\anaconda3\\lib\\site-packages (from geopy->getorg) (1.52)\n",
      "Requirement already satisfied: requests>=2.14.0 in c:\\users\\kaili-pants\\anaconda3\\lib\\site-packages (from pygithub->getorg) (2.25.0)\n",
      "Requirement already satisfied: pyjwt>=2.0 in c:\\users\\kaili-pants\\anaconda3\\lib\\site-packages (from pygithub->getorg) (2.5.0)\n",
      "Requirement already satisfied: deprecated in c:\\users\\kaili-pants\\anaconda3\\lib\\site-packages (from pygithub->getorg) (1.2.13)\n",
      "Requirement already satisfied: pynacl>=1.4.0 in c:\\users\\kaili-pants\\anaconda3\\lib\\site-packages (from pygithub->getorg) (1.5.0)\n",
      "Requirement already satisfied: wrapt<2,>=1.10 in c:\\users\\kaili-pants\\anaconda3\\lib\\site-packages (from deprecated->pygithub->getorg) (1.11.2)\n",
      "Requirement already satisfied: cffi>=1.4.1 in c:\\users\\kaili-pants\\anaconda3\\lib\\site-packages (from pynacl>=1.4.0->pygithub->getorg) (1.14.4)\n",
      "Requirement already satisfied: pycparser in c:\\users\\kaili-pants\\anaconda3\\lib\\site-packages (from cffi>=1.4.1->pynacl>=1.4.0->pygithub->getorg) (2.20)\n",
      "Requirement already satisfied: certifi>=2017.4.17 in c:\\users\\kaili-pants\\anaconda3\\lib\\site-packages (from requests>=2.14.0->pygithub->getorg) (2020.11.8)\n",
      "Requirement already satisfied: chardet<4,>=3.0.2 in c:\\users\\kaili-pants\\anaconda3\\lib\\site-packages (from requests>=2.14.0->pygithub->getorg) (3.0.4)\n",
      "Requirement already satisfied: idna<3,>=2.5 in c:\\users\\kaili-pants\\anaconda3\\lib\\site-packages (from requests>=2.14.0->pygithub->getorg) (2.10)\n",
      "Requirement already satisfied: urllib3<1.27,>=1.21.1 in c:\\users\\kaili-pants\\anaconda3\\lib\\site-packages (from requests>=2.14.0->pygithub->getorg) (1.25.11)\n",
      "Requirement already satisfied: six>=1.7.0 in c:\\users\\kaili-pants\\anaconda3\\lib\\site-packages (from retrying->getorg) (1.15.0)\n",
      "Iywidgets and ipyleaflet support disabled. You must be in a Jupyter notebook to use this feature.\n",
      "Error raised:\n",
      "No module named 'ipyleaflet'\n",
      "Check that you have enabled ipyleaflet in Jupyter with:\n",
      "    jupyter nbextension enable --py ipyleaflet\n"
     ]
    }
   ],
   "source": [
    "!pip install getorg --upgrade\n",
    "import glob\n",
    "import getorg\n",
    "from geopy import Nominatim"
   ]
  },
  {
   "cell_type": "code",
   "execution_count": 2,
   "metadata": {},
   "outputs": [],
   "source": [
    "g = glob.glob(\"*.md\")"
   ]
  },
  {
   "cell_type": "code",
   "execution_count": 3,
   "metadata": {},
   "outputs": [],
   "source": [
    "geocoder = Nominatim(user_agent=\"kvesik-github-pages\")\n",
    "location_dict = {}\n",
    "location = \"\"\n",
    "permalink = \"\"\n",
    "title = \"\""
   ]
  },
  {
   "cell_type": "code",
   "execution_count": 6,
   "metadata": {},
   "outputs": [
    {
     "name": "stdout",
     "output_type": "stream",
     "text": [
      "Seattle, Washington, USA \n",
      " Seattle, King County, Washington, United States\n",
      "Vancouver, British Columbia, Canada \n",
      " Vancouver, Metro Vancouver Regional District, British Columbia, Canada\n",
      "Chicago, Illinois, USA \n",
      " Chicago, Cook County, Illinois, United States\n",
      "Vancouver, British Columbia, Canada \n",
      " Vancouver, Metro Vancouver Regional District, British Columbia, Canada\n",
      "Toronto, Ontario, Canada \n",
      " Old Toronto, Toronto, Golden Horseshoe, Ontario, Canada\n",
      "Marseille, France\"\n",
      "---\n",
      "\n",
      "Hall, K.C., Aonuki, Y., Vesik, K., Poy, A., & Tolmie, N. Sign Language Phonetic Annotator-Analyzer: Open-Source Software for Form-Based Analysis of Sign Languages. 10th Workshop on the Representation and Processing of Sign Languages: Multilingual Sign Language Resources. June 25, 2022.\n",
      "\n",
      " - [Poster](../files/Hall_etal_2022_LREC_poster.pdf) and [Supplementary Materials](../files/Hall_etal_2022_LREC_supplement.pdf)\n",
      " - [github repo](https://github.com/PhonologicalCorpusTools/SLPAA)\n",
      " - [Proceedings](../publication/2022-06-slpaa-open-source-software) \n",
      " None\n",
      "Los Angeles, California, USA\"\n",
      "---\n",
      "\n",
      "Vesik, K. Necessary biases for algorithmic learning of Kihnu Estonian vowel harmony. 2022 Annual Meeting on Phonology. October 23, 2022.\n",
      "\n",
      " - [Poster](../files/Vesik_2022_AMP_poster.pdf) \n",
      " None\n"
     ]
    }
   ],
   "source": [
    "\n",
    "for file in g:\n",
    "    with open(file, 'r') as f:\n",
    "        lines = f.read()\n",
    "        if lines.find('location: \"') > 1:\n",
    "            loc_start = lines.find('location: \"') + 11\n",
    "            lines_trim = lines[loc_start:]\n",
    "            #loc_end = lines_trim.find('\"')\n",
    "            loc_end = lines_trim.find(' / online')\n",
    "            location = lines_trim[:loc_end]\n",
    "                            \n",
    "           \n",
    "        location_dict[location] = geocoder.geocode(location)\n",
    "        print(location, \"\\n\", location_dict[location])\n"
   ]
  },
  {
   "cell_type": "code",
   "execution_count": 7,
   "metadata": {},
   "outputs": [
    {
     "data": {
      "text/plain": [
       "'Written map to ../talkmap/'"
      ]
     },
     "execution_count": 7,
     "metadata": {},
     "output_type": "execute_result"
    }
   ],
   "source": [
    "m = getorg.orgmap.create_map_obj()\n",
    "getorg.orgmap.output_html_cluster_map(location_dict, folder_name=\"../talkmap\", hashed_usernames=False)"
   ]
  },
  {
   "cell_type": "code",
   "execution_count": null,
   "metadata": {
    "collapsed": true
   },
   "outputs": [],
   "source": []
  }
 ],
 "metadata": {
  "anaconda-cloud": {},
  "kernelspec": {
   "display_name": "Python 3",
   "language": "python",
   "name": "python3"
  },
  "language_info": {
   "codemirror_mode": {
    "name": "ipython",
    "version": 3
   },
   "file_extension": ".py",
   "mimetype": "text/x-python",
   "name": "python",
   "nbconvert_exporter": "python",
   "pygments_lexer": "ipython3",
   "version": "3.7.3"
  }
 },
 "nbformat": 4,
 "nbformat_minor": 1
}
